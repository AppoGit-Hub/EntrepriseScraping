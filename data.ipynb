{
 "cells": [
  {
   "cell_type": "code",
   "execution_count": 5,
   "metadata": {},
   "outputs": [],
   "source": [
    "import pandas as pd\n",
    "import numpy as np\n",
    "import math\n",
    "import os"
   ]
  },
  {
   "cell_type": "code",
   "execution_count": 7,
   "metadata": {},
   "outputs": [],
   "source": [
    "data = pd.read_csv(os.path.abspath(\"data.csv\"), encoding=\"utf-16\")"
   ]
  },
  {
   "cell_type": "code",
   "execution_count": 10,
   "metadata": {},
   "outputs": [
    {
     "data": {
      "text/plain": [
       "tags\n",
       "Maths                      1240\n",
       " Physique                   735\n",
       " Chimie                     571\n",
       " Maths                      563\n",
       "Français                    447\n",
       " Français                   435\n",
       ":Maths                      433\n",
       " Science                    326\n",
       " Aide aux devoirs           226\n",
       " Anglais                    204\n",
       " Grammaire                  179\n",
       " Biologie                   177\n",
       "Anglais                     143\n",
       "Chimie                      129\n",
       "Aide aux devoirs            116\n",
       "Science                     105\n",
       " Histoire                    94\n",
       " Economie (scolaire)         90\n",
       "Physique                     90\n",
       ":Aide aux devoirs            87\n",
       " Néerlandais                 83\n",
       " Méthodologie                79\n",
       " Géographie                  71\n",
       "Biologie                     59\n",
       " Espagnol                    58\n",
       " Vocabulaire                 57\n",
       "Histoire                     55\n",
       " Statistiques                52\n",
       "Grammaire                    50\n",
       " Orthographe (scolaire)      46\n",
       "Name: count, dtype: int64"
      ]
     },
     "execution_count": 10,
     "metadata": {},
     "output_type": "execute_result"
    }
   ],
   "source": [
    "data[\"tags\"].str.split(\";\").explode().value_counts().head(30)"
   ]
  }
 ],
 "metadata": {
  "kernelspec": {
   "display_name": "Python 3",
   "language": "python",
   "name": "python3"
  },
  "language_info": {
   "codemirror_mode": {
    "name": "ipython",
    "version": 3
   },
   "file_extension": ".py",
   "mimetype": "text/x-python",
   "name": "python",
   "nbconvert_exporter": "python",
   "pygments_lexer": "ipython3",
   "version": "3.11.0"
  }
 },
 "nbformat": 4,
 "nbformat_minor": 2
}
